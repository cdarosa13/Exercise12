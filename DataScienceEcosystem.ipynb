{
 "cells": [
  {
   "cell_type": "markdown",
   "id": "cdaa8b0d-dfec-4da4-93cd-bc7e713f7d17",
   "metadata": {
    "tags": []
   },
   "source": [
    "# Data Science Tools and Ecosystem"
   ]
  },
  {
   "cell_type": "markdown",
   "id": "82a44a31-fb5d-44fc-adba-a0153839c75d",
   "metadata": {},
   "source": [
    "In this notebook, Data Science Tools and Ecosystem are summarized"
   ]
  },
  {
   "cell_type": "markdown",
   "id": "f9b509b7-6e04-411f-a701-be52d4699b0d",
   "metadata": {},
   "source": [
    "**Objectives:**\n",
    "- List popular languages in data science\n",
    "- List common libraries in data science\n",
    "- Demonstrate arithmetic expressions using Python\n",
    "- Share files using GitHub"
   ]
  },
  {
   "cell_type": "markdown",
   "id": "366e0673-d5b3-4378-8822-8f0cd72bd7bb",
   "metadata": {},
   "source": [
    "Some of the popular languages that Data Scientists use are:\n",
    "1. Python\n",
    "2. R\n",
    "3. SQL\n",
    "4. Scala"
   ]
  },
  {
   "cell_type": "markdown",
   "id": "969f2fad-e55c-419b-9ac6-7261a6ee1222",
   "metadata": {},
   "source": [
    "Some of the commonly used libraries used by Data Scientists include:\n",
    "1. numpy\n",
    "2. pandas\n",
    "3. matplotlib"
   ]
  },
  {
   "cell_type": "markdown",
   "id": "ccc842e7-3214-4107-90ce-37a824229d79",
   "metadata": {},
   "source": [
    " Data Science Tools |\n",
    " ------ |\n",
    " Jupyter Notebooks |\n",
    " RStudio |\n",
    " Apache Zeppelin |"
   ]
  },
  {
   "cell_type": "markdown",
   "id": "541fc9b6-58fd-4a1f-8da1-3779adbde5d6",
   "metadata": {},
   "source": [
    "### Below are a few examples of evaluating arithmetic expressions in Python."
   ]
  },
  {
   "cell_type": "code",
   "execution_count": 1,
   "id": "36b3a774-2ac2-4404-85c8-34376c1bea51",
   "metadata": {
    "tags": []
   },
   "outputs": [
    {
     "data": {
      "text/plain": [
       "17"
      ]
     },
     "execution_count": 1,
     "metadata": {},
     "output_type": "execute_result"
    }
   ],
   "source": [
    "# This is a simple arithmetic expression to multiply then add integers\n",
    "(3*4)+5"
   ]
  },
  {
   "cell_type": "code",
   "execution_count": 2,
   "id": "60dae513-f0be-4f0e-91da-6260bc460e94",
   "metadata": {
    "tags": []
   },
   "outputs": [
    {
     "data": {
      "text/plain": [
       "3.3333333333333335"
      ]
     },
     "execution_count": 2,
     "metadata": {},
     "output_type": "execute_result"
    }
   ],
   "source": [
    "# This will convert 200 minutes to hours by dividing by 60\n",
    "200 / 60"
   ]
  },
  {
   "cell_type": "markdown",
   "id": "2887b3c6-928c-42c4-a1f6-ed0d6dc559f2",
   "metadata": {},
   "source": [
    "## Author\n",
    "Calvin daRosa"
   ]
  },
  {
   "cell_type": "code",
   "execution_count": null,
   "id": "00736053-1eb0-4caa-b085-ae160c99190c",
   "metadata": {},
   "outputs": [],
   "source": []
  }
 ],
 "metadata": {
  "kernelspec": {
   "display_name": "Python",
   "language": "python",
   "name": "conda-env-python-py"
  },
  "language_info": {
   "codemirror_mode": {
    "name": "ipython",
    "version": 3
   },
   "file_extension": ".py",
   "mimetype": "text/x-python",
   "name": "python",
   "nbconvert_exporter": "python",
   "pygments_lexer": "ipython3",
   "version": "3.7.12"
  }
 },
 "nbformat": 4,
 "nbformat_minor": 5
}
